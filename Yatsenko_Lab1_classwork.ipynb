{
  "nbformat": 4,
  "nbformat_minor": 0,
  "metadata": {
    "colab": {
      "name": "Yatsenko_lab1.ipynb",
      "provenance": [],
      "authorship_tag": "ABX9TyNG/sdN7Aa2nqsvI/us5udo",
      "include_colab_link": true
    },
    "kernelspec": {
      "name": "python3",
      "display_name": "Python 3"
    }
  },
  "cells": [
    {
      "cell_type": "markdown",
      "metadata": {
        "id": "view-in-github",
        "colab_type": "text"
      },
      "source": [
        "<a href=\"https://colab.research.google.com/github/FedorYatsenko/NN_Labs/blob/master/Yatsenko_Lab1_classwork.ipynb\" target=\"_parent\"><img src=\"https://colab.research.google.com/assets/colab-badge.svg\" alt=\"Open In Colab\"/></a>"
      ]
    },
    {
      "cell_type": "markdown",
      "metadata": {
        "id": "mmJScQQWRRCp",
        "colab_type": "text"
      },
      "source": [
        "# Lab 1 Yatsenko\n",
        "### № 17"
      ]
    },
    {
      "cell_type": "markdown",
      "metadata": {
        "id": "bsr2ThXjQ7Gz",
        "colab_type": "text"
      },
      "source": [
        "1. Import"
      ]
    },
    {
      "cell_type": "code",
      "metadata": {
        "id": "7hBOziXQRAPJ",
        "colab_type": "code",
        "colab": {}
      },
      "source": [
        "import numpy as np\n",
        "\n",
        "from google.colab import drive\n",
        "from matplotlib.pyplot import plot"
      ],
      "execution_count": 0,
      "outputs": []
    },
    {
      "cell_type": "markdown",
      "metadata": {
        "id": "jmuMpuz9RCHo",
        "colab_type": "text"
      },
      "source": [
        "2. Load data"
      ]
    },
    {
      "cell_type": "code",
      "metadata": {
        "id": "NmsEY4t0RE4C",
        "colab_type": "code",
        "colab": {
          "base_uri": "https://localhost:8080/",
          "height": 51
        },
        "outputId": "968e804a-383c-4c6c-effb-98c0eb7305df"
      },
      "source": [
        "drive.mount('/content/drive')\n",
        "\n",
        "path = \"/content/drive/My Drive/Colab Notebooks/lab1/\"\n",
        "\n",
        "f0 = 'sample017.csv'\n",
        "f1 = 'sampleCh1.csv'\n",
        "f2 = 'sampleCh2.csv'\n",
        "f3 = 'sampleCh3.csv'\n",
        "\n",
        "data0 = np.genfromtxt(path + f0, delimiter=',')\n",
        "data1 = np.genfromtxt(path + f1, delimiter=',')\n",
        "data2 = np.genfromtxt(path + f2, delimiter=',')\n",
        "data3 = np.genfromtxt(path + f3, delimiter=',')\n",
        "\n",
        "print(f\"d0 = {data0.shape}, d1 = {data1.shape}, d2 = {data2.shape}, d3 = {data3.shape}\")"
      ],
      "execution_count": 51,
      "outputs": [
        {
          "output_type": "stream",
          "text": [
            "Drive already mounted at /content/drive; to attempt to forcibly remount, call drive.mount(\"/content/drive\", force_remount=True).\n",
            "d0 = (600, 3), d1 = (2000, 3), d2 = (2000, 3), d3 = (2000, 4)\n"
          ],
          "name": "stdout"
        }
      ]
    },
    {
      "cell_type": "markdown",
      "metadata": {
        "id": "re6bj5EeWBAf",
        "colab_type": "text"
      },
      "source": [
        "2.1. Show data"
      ]
    },
    {
      "cell_type": "code",
      "metadata": {
        "id": "DAErXFybV4zv",
        "colab_type": "code",
        "colab": {
          "base_uri": "https://localhost:8080/",
          "height": 299
        },
        "outputId": "4bfbd61d-c5f8-46b0-a5e5-e20c2c6c3f97"
      },
      "source": [
        "x1, y1 = [], []\n",
        "x2, y2 = [], []\n",
        "\n",
        "for x, y, group in data0:\n",
        "  if group == 0:\n",
        "    x1.append(x)\n",
        "    y1.append(y)\n",
        "  elif group == 1:\n",
        "    x2.append(x)\n",
        "    y2.append(y)\n",
        "  else:\n",
        "    print(group)\n",
        "\n",
        "plot(x1, y1, 'ro', x2, y2, 'bo')"
      ],
      "execution_count": 52,
      "outputs": [
        {
          "output_type": "execute_result",
          "data": {
            "text/plain": [
              "[<matplotlib.lines.Line2D at 0x7fc3642091d0>,\n",
              " <matplotlib.lines.Line2D at 0x7fc3642092e8>]"
            ]
          },
          "metadata": {
            "tags": []
          },
          "execution_count": 52
        },
        {
          "output_type": "display_data",
          "data": {
            "image/png": "[encoded data removed]",
            "text/plain": [
              "<Figure size 432x288 with 1 Axes>"
            ]
          },
          "metadata": {
            "tags": []
          }
        }
      ]
    },
    {
      "cell_type": "markdown",
      "metadata": {
        "id": "sQXUGd2ommj-",
        "colab_type": "text"
      },
      "source": [
        "3. Нейрон МакКаллока-Піттса"
      ]
    },
    {
      "cell_type": "code",
      "metadata": {
        "id": "H0QsZpl8mpjl",
        "colab_type": "code",
        "colab": {}
      },
      "source": [
        "import numpy as np\n",
        "\n",
        "\n",
        "def func(x):\n",
        "    if x >= 0:\n",
        "        return 1\n",
        "    return 0\n",
        "\n",
        "\n",
        "class Neuron:\n",
        "    def __init__(self, shape=2, learning_rate=1):\n",
        "        self.bias = 0\n",
        "        self.w = np.zeros(shape=shape)\n",
        "        self.learning_rate = learning_rate\n",
        "        self.history = []\n",
        "\n",
        "    def calc(self, xs):\n",
        "        y = self.bias\n",
        "        for i, x in enumerate(xs):\n",
        "            y += self.w[i] * x\n",
        "\n",
        "        return func(y)\n",
        "\n",
        "    def change_w(self, xs, y, d):\n",
        "        e = d - y  # calc error\n",
        "        self.bias = self.bias + self.learning_rate * e\n",
        "\n",
        "        for i, x in enumerate(xs):\n",
        "            self.w[i] = self.w[i] + self.learning_rate * e * x\n",
        "\n",
        "    def train(self, data, max_epoch=0, max_error=0):\n",
        "        p = 1\n",
        "        self.history = []\n",
        "\n",
        "        while p != max_epoch:\n",
        "            abs_e = 0\n",
        "\n",
        "            for *xs, target_group in data:\n",
        "                result_group = self.calc(xs)\n",
        "                self.change_w(xs, result_group, target_group)\n",
        "\n",
        "            for *xs, target_group in data:\n",
        "                result_group = self.calc(xs)\n",
        "                if result_group != target_group:\n",
        "                    abs_e += 1\n",
        "\n",
        "            this_epoch = (abs_e, self.bias, self.w.copy())\n",
        "            self.history.append(this_epoch)\n",
        "\n",
        "            p += 1\n",
        "\n",
        "            if abs_e <= max_error:\n",
        "                print('Max error')\n",
        "                break\n",
        "        else:\n",
        "            print('Max epoch')\n",
        "\n",
        "        return self.history\n",
        "\n",
        "    def get_best_w(self):\n",
        "        min_abs_e, min_bias, min_w = self.history[0]\n",
        "        min_epoch = 0\n",
        "\n",
        "        for i, (abs_e, bias, w) in enumerate(self.history):\n",
        "            if abs_e < min_abs_e:\n",
        "                min_abs_e, min_epoch, min_bias, min_w = abs_e, i + 1, bias, w\n",
        "\n",
        "        return min_abs_e, min_epoch, min_bias, min_w\n",
        "\n",
        "    def get_line(self, x):\n",
        "        *_, bias, w = self.get_best_w()\n",
        "        return -(w[0] / w[1] * x) - (bias / w[1])\n"
      ],
      "execution_count": 0,
      "outputs": []
    },
    {
      "cell_type": "markdown",
      "metadata": {
        "id": "qWIw1kgwntQB",
        "colab_type": "text"
      },
      "source": [
        "4. File 017"
      ]
    },
    {
      "cell_type": "code",
      "metadata": {
        "id": "iGlo7c0gn86t",
        "colab_type": "code",
        "colab": {
          "base_uri": "https://localhost:8080/",
          "height": 350
        },
        "outputId": "7399c168-b54a-45b6-9ad0-0c030726d59e"
      },
      "source": [
        "model0 = Neuron()\n",
        "model0.train(data0, max_epoch=1000)\n",
        "\n",
        "print(model0.get_best_w())\n",
        "\n",
        "x1, y1 = [], []\n",
        "x2, y2 = [], []\n",
        "\n",
        "for x, y, group in data0:\n",
        "  if group == 0:\n",
        "    x1.append(x)\n",
        "    y1.append(y)\n",
        "  elif group == 1:\n",
        "    x2.append(x)\n",
        "    y2.append(y)\n",
        "  else:\n",
        "    print(group)\n",
        "\n",
        "xs = [-19, 19]\n",
        "ys1 = [model0.get_line(x_) for x_ in xs]\n",
        "\n",
        "plot(x1, y1, 'ro', x2, y2, 'bo', xs, ys1, 'k')"
      ],
      "execution_count": 95,
      "outputs": [
        {
          "output_type": "stream",
          "text": [
            "Max epoch\n",
            "(47, 126, 13.0, array([-2.41322141, 22.47163374]))\n"
          ],
          "name": "stdout"
        },
        {
          "output_type": "execute_result",
          "data": {
            "text/plain": [
              "[<matplotlib.lines.Line2D at 0x7fc36381dd30>,\n",
              " <matplotlib.lines.Line2D at 0x7fc36381de48>,\n",
              " <matplotlib.lines.Line2D at 0x7fc36381df98>]"
            ]
          },
          "metadata": {
            "tags": []
          },
          "execution_count": 95
        },
        {
          "output_type": "display_data",
          "data": {
            "image/png": "[encoded data removed]",
            "text/plain": [
              "<Figure size 432x288 with 1 Axes>"
            ]
          },
          "metadata": {
            "tags": []
          }
        }
      ]
    },
    {
      "cell_type": "markdown",
      "metadata": {
        "id": "_oR2u90us5sh",
        "colab_type": "text"
      },
      "source": [
        "5. File Ch1"
      ]
    },
    {
      "cell_type": "code",
      "metadata": {
        "id": "MnUtJ90StBoJ",
        "colab_type": "code",
        "colab": {
          "base_uri": "https://localhost:8080/",
          "height": 350
        },
        "outputId": "fa08eb60-6112-4568-a48a-9c344eaa545e"
      },
      "source": [
        "model1 = Neuron()\n",
        "model1.train(data1, max_epoch=1000)\n",
        "print(model1.get_best_w())\n",
        "\n",
        "x1, y1 = [], []\n",
        "x2, y2 = [], []\n",
        "\n",
        "for x, y, group in data1:\n",
        "  if group == 0:\n",
        "    x1.append(x)\n",
        "    y1.append(y)\n",
        "  elif group == 1:\n",
        "    x2.append(x)\n",
        "    y2.append(y)\n",
        "  else:\n",
        "    print(group)\n",
        "\n",
        "xs = [-15, 30]\n",
        "ys1 = [model1.get_line(x_) for x_ in xs]\n",
        "\n",
        "plot(x1, y1, 'ro', x2, y2, 'bo', xs, ys1, 'k')"
      ],
      "execution_count": 96,
      "outputs": [
        {
          "output_type": "stream",
          "text": [
            "Max error\n",
            "(0, 12, 53.0, array([ 3.22917865, 10.25231609]))\n"
          ],
          "name": "stdout"
        },
        {
          "output_type": "execute_result",
          "data": {
            "text/plain": [
              "[<matplotlib.lines.Line2D at 0x7fc363802d30>,\n",
              " <matplotlib.lines.Line2D at 0x7fc363802e48>,\n",
              " <matplotlib.lines.Line2D at 0x7fc363802f98>]"
            ]
          },
          "metadata": {
            "tags": []
          },
          "execution_count": 96
        },
        {
          "output_type": "display_data",
          "data": {
            "image/png": "[encoded data removed]",
            "text/plain": [
              "<Figure size 432x288 with 1 Axes>"
            ]
          },
          "metadata": {
            "tags": []
          }
        }
      ]
    },
    {
      "cell_type": "markdown",
      "metadata": {
        "id": "97v6Aw1pvUj-",
        "colab_type": "text"
      },
      "source": [
        "6. File Ch2"
      ]
    },
    {
      "cell_type": "code",
      "metadata": {
        "id": "pE6yX6JpvXY6",
        "colab_type": "code",
        "colab": {
          "base_uri": "https://localhost:8080/",
          "height": 350
        },
        "outputId": "aa648ac5-0804-426f-dd62-fcad01b9573e"
      },
      "source": [
        "model2 = Neuron()\n",
        "model2.train(data2, max_epoch=1000)\n",
        "print(model2.get_best_w())\n",
        "\n",
        "x1, y1 = [], []\n",
        "x2, y2 = [], []\n",
        "\n",
        "for x, y, group in data2:\n",
        "  if group == 0:\n",
        "    x1.append(x)\n",
        "    y1.append(y)\n",
        "  elif group == 1:\n",
        "    x2.append(x)\n",
        "    y2.append(y)\n",
        "  else:\n",
        "    print(group)\n",
        "\n",
        "xs = [-10, 10]\n",
        "ys1 = [model2.get_line(x_) for x_ in xs]\n",
        "\n",
        "plot(x1, y1, 'ro', x2, y2, 'bo', xs, ys1, 'k')"
      ],
      "execution_count": 97,
      "outputs": [
        {
          "output_type": "stream",
          "text": [
            "Max epoch\n",
            "(14, 58, 21.0, array([ 7.61054375, 10.73842465]))\n"
          ],
          "name": "stdout"
        },
        {
          "output_type": "execute_result",
          "data": {
            "text/plain": [
              "[<matplotlib.lines.Line2D at 0x7fc363774b38>,\n",
              " <matplotlib.lines.Line2D at 0x7fc363774c50>,\n",
              " <matplotlib.lines.Line2D at 0x7fc363774da0>]"
            ]
          },
          "metadata": {
            "tags": []
          },
          "execution_count": 97
        },
        {
          "output_type": "display_data",
          "data": {
            "image/png": "[encoded data removed]",
            "text/plain": [
              "<Figure size 432x288 with 1 Axes>"
            ]
          },
          "metadata": {
            "tags": []
          }
        }
      ]
    },
    {
      "cell_type": "markdown",
      "metadata": {
        "id": "a-kSYm9TworN",
        "colab_type": "text"
      },
      "source": [
        "7. File Ch3\n"
      ]
    },
    {
      "cell_type": "code",
      "metadata": {
        "id": "oHJn6wKBwvWB",
        "colab_type": "code",
        "colab": {
          "base_uri": "https://localhost:8080/",
          "height": 51
        },
        "outputId": "8a568783-baca-4a77-f2bb-2ef71c7c9580"
      },
      "source": [
        "model3 = Neuron(shape=3)\n",
        "history = model3.train(data3, max_epoch=1000)\n",
        "print(model3.get_best_w())\n",
        "\n",
        "#for i, arr in enumerate(history):\n",
        "#  print(f'{i}. {arr}')"
      ],
      "execution_count": 98,
      "outputs": [
        {
          "output_type": "stream",
          "text": [
            "Max epoch\n",
            "(9, 966, 23.0, array([ 7.7571212 , 12.79832712, 12.80614844]))\n"
          ],
          "name": "stdout"
        }
      ]
    }
  ]
}